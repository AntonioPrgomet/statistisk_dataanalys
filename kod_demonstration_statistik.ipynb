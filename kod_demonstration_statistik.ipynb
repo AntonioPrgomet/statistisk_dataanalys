{
 "cells": [
  {
   "cell_type": "markdown",
   "id": "458c6047",
   "metadata": {},
   "source": [
    "# Statistics - Code Demonstration\n",
    "We show some code related to statistics. \n",
    "- First we demonstrate some probability calculations. \n",
    "- Secondly we give an example where we do some statistical analysis.\n",
    "\n",
    "The purpose is to give a short overview of some possibilities and you are encouraged to explore, the documentation for instance, for further details. "
   ]
  },
  {
   "cell_type": "code",
   "execution_count": 1,
   "id": "3bfdd432",
   "metadata": {},
   "outputs": [],
   "source": [
    "import numpy as np\n",
    "import matplotlib.pyplot as plt\n",
    "\n",
    "import scipy.stats as st\n",
    "from scipy.stats import binom\n",
    "from scipy.stats import norm\n",
    "from scipy.stats import t\n",
    "\n",
    "import statsmodels.api as sm"
   ]
  },
  {
   "cell_type": "markdown",
   "id": "2813dcc5",
   "metadata": {},
   "source": [
    "# Probability Calculations"
   ]
  },
  {
   "cell_type": "markdown",
   "id": "41add932",
   "metadata": {},
   "source": [
    "### Binomial Distribution\n",
    "$X \\sim Bin(n=5, p=0.4)$"
   ]
  },
  {
   "cell_type": "code",
   "execution_count": 2,
   "id": "7641d36d",
   "metadata": {},
   "outputs": [
    {
     "name": "stdout",
     "output_type": "stream",
     "text": [
      "0.230\n",
      "0.913\n",
      "0.317\n"
     ]
    }
   ],
   "source": [
    "# a) P(X = 3)\n",
    "print(f'{binom.pmf(3, 5, 0.4):.3f}')\n",
    "\n",
    "# b) P(X <= 3)\n",
    "print(f'{binom.cdf(3, 5, 0.4):.3f}')\n",
    "\n",
    "# b) P(X > 2)\n",
    "print(f'{(1 - binom.cdf(2, 5, 0.4)):.3f}')"
   ]
  },
  {
   "cell_type": "markdown",
   "id": "d235e4db",
   "metadata": {},
   "source": [
    "### Normal Distribution\n",
    "$Z \\sim N(0, 1)$"
   ]
  },
  {
   "cell_type": "code",
   "execution_count": 3,
   "id": "a198032a",
   "metadata": {},
   "outputs": [
    {
     "name": "stdout",
     "output_type": "stream",
     "text": [
      "0.924\n",
      "0.076\n",
      "0.737\n"
     ]
    }
   ],
   "source": [
    "# a) P(Z < 1.43)\n",
    "print(f'{norm.cdf(1.43):.3f}')\n",
    "\n",
    "# b) P(Z > 1.43)\n",
    "print(f'{(1 - norm.cdf(1.43)):.3f}')\n",
    "\n",
    "# c) P(-0.75 < Z <= 1.8)\n",
    "print(f'{(norm.cdf(1.8) - norm.cdf(-0.75)):.3f}')"
   ]
  },
  {
   "cell_type": "markdown",
   "id": "5318bd04",
   "metadata": {},
   "source": [
    "### Example on Inverse CDF / Quantile"
   ]
  },
  {
   "cell_type": "code",
   "execution_count": 4,
   "id": "36f9a02e",
   "metadata": {},
   "outputs": [
    {
     "name": "stdout",
     "output_type": "stream",
     "text": [
      "0.975\n",
      "1.960\n"
     ]
    }
   ],
   "source": [
    "# For a given z-value, what is the probability?\n",
    "# P(Z <= 1.96)\n",
    "print(f'{norm.cdf(1.96):.3f}')\n",
    "\n",
    "# For a given probability, what is the z-value?\n",
    "# P(Z <= z) = 0.975\n",
    "print(f'{norm.ppf(0.975):.3f}')"
   ]
  },
  {
   "cell_type": "markdown",
   "id": "21368cc6",
   "metadata": {},
   "source": [
    "# Example - Statistics\n",
    "We will do the following:\n",
    "1. Generate normal distributed data.\n",
    "2. Do some plots. \n",
    "3. Calculate some descriptive statistics such as mean and std.\n",
    "4. Calculate a confidence interval manually and by a built-in function.  \n",
    "5. Perform hypothesis testing manually and by a built-in function.  \n",
    "6. Shapiro-Wilk normality test."
   ]
  },
  {
   "cell_type": "markdown",
   "id": "99f17a62",
   "metadata": {},
   "source": [
    "### Data generation and plots"
   ]
  },
  {
   "cell_type": "code",
   "execution_count": 5,
   "id": "c7d8570c",
   "metadata": {},
   "outputs": [
    {
     "data": {
      "text/plain": [
       "Text(0.5, 1.0, 'QQ Plot')"
      ]
     },
     "execution_count": 5,
     "metadata": {},
     "output_type": "execute_result"
    },
    {
     "data": {
      "image/png": "[encoded data removed]",
      "text/plain": [
       "<Figure size 1080x360 with 3 Axes>"
      ]
     },
     "metadata": {
      "needs_background": "light"
     },
     "output_type": "display_data"
    }
   ],
   "source": [
    "# Simulate data\n",
    "np.random.seed(42)  # Set the random seed for reproducible results.\n",
    "x = norm.rvs(10, 3, 1000)\n",
    "\n",
    "# Visualize the data\n",
    "fig, axs = plt.subplots(1, 3, figsize=(15, 5))\n",
    "plt.suptitle('Normal Distributed Data', fontsize=16)\n",
    "\n",
    "axs[0].hist(x)\n",
    "axs[0].set_title('Histogram')\n",
    "\n",
    "axs[1].boxplot(x)\n",
    "axs[1].set_title('Boxplot')\n",
    "\n",
    "sm.qqplot(x, line='45', fit = True, ax=axs[2])\n",
    "axs[2].set_title('QQ Plot')"
   ]
  },
  {
   "cell_type": "markdown",
   "id": "cc451dfa",
   "metadata": {},
   "source": [
    "### Descriptive statistics"
   ]
  },
  {
   "cell_type": "code",
   "execution_count": 6,
   "id": "76689d9f",
   "metadata": {},
   "outputs": [
    {
     "name": "stdout",
     "output_type": "stream",
     "text": [
      "Mean: 10.06\n",
      "Std: 2.94\n",
      "Median: 10.08\n",
      "Minimum: 0.28\n",
      "Maximum: 21.56\n"
     ]
    }
   ],
   "source": [
    "print(f'Mean: {np.mean(x):.2f}')\n",
    "print(f'Std: {np.std(x):.2f}')\n",
    "print(f'Median: {np.median(x):.2f}')\n",
    "print(f'Minimum: {np.min(x):.2f}')\n",
    "print(f'Maximum: {np.max(x):.2f}')"
   ]
  },
  {
   "cell_type": "markdown",
   "id": "a28cd1d8",
   "metadata": {},
   "source": [
    "### Confidence interval"
   ]
  },
  {
   "cell_type": "markdown",
   "id": "11e2ae3b",
   "metadata": {},
   "source": [
    "To calculate the confidence interval, we use the following formula: $\\overline{x} \\pm t \\cdot \\frac{s}{\\sqrt{\\displaystyle n}}$ where the quantile, t, from the t-distribution has $n-1$ degrees of freedom."
   ]
  },
  {
   "cell_type": "code",
   "execution_count": 7,
   "id": "2dd6a3ac",
   "metadata": {},
   "outputs": [
    {
     "name": "stdout",
     "output_type": "stream",
     "text": [
      "9.875701355809893 10.24029097912406\n"
     ]
    }
   ],
   "source": [
    "# Calculate a 95% confidence interval manually\n",
    "mean = np.mean(x)\n",
    "std = np.std(x, ddof=1)\n",
    "n = np.size(x)\n",
    "ci_perc = 0.95\n",
    "\n",
    "quantile = t.ppf(1 - (1 - ci_perc) / 2, n-1)\n",
    "\n",
    "ci_lower = mean - quantile*(std/np.sqrt(n))\n",
    "ci_upper = mean + quantile*(std/np.sqrt(n))\n",
    "\n",
    "print(ci_lower, ci_upper)"
   ]
  },
  {
   "cell_type": "code",
   "execution_count": 8,
   "id": "b00eb253",
   "metadata": {},
   "outputs": [
    {
     "data": {
      "text/plain": [
       "(9.875701355809893, 10.24029097912406)"
      ]
     },
     "execution_count": 8,
     "metadata": {},
     "output_type": "execute_result"
    }
   ],
   "source": [
    "# Calculate a 95% confidence interval by using a built in function\n",
    "t.interval(0.95, n-1, mean, std/np.sqrt(n))"
   ]
  },
  {
   "cell_type": "markdown",
   "id": "11ff1fba",
   "metadata": {},
   "source": [
    "### Hypothesis testing"
   ]
  },
  {
   "cell_type": "markdown",
   "id": "05458568",
   "metadata": {},
   "source": [
    "To test the hypotheses we use the test statistic: \n",
    " $t = \\frac{\\overline{x} - \\mu}{s/\\sqrt{n}}$ where we use $n-1$ degrees of freedom for the t-distribution."
   ]
  },
  {
   "cell_type": "markdown",
   "id": "87ce4b8b",
   "metadata": {},
   "source": [
    "Testing the hypothesis: \n",
    "\n",
    "$H_{0}: \\mu = 10$\n",
    "\n",
    "$H_{1}: \\mu \\ne 10$"
   ]
  },
  {
   "cell_type": "code",
   "execution_count": 9,
   "id": "572e94fe",
   "metadata": {},
   "outputs": [
    {
     "name": "stdout",
     "output_type": "stream",
     "text": [
      "t_obs 0.6243089585093191\n",
      "p-value 0.5325672436623026\n"
     ]
    }
   ],
   "source": [
    "# Doing the hypothesis test manually\n",
    "t_obs = (mean - 10)/(std/np.sqrt(n))\n",
    "p_value = 2*(1 - t.cdf(t_obs, n-1))\n",
    "\n",
    "print('t_obs', t_obs)\n",
    "print('p-value', p_value)"
   ]
  },
  {
   "cell_type": "code",
   "execution_count": 10,
   "id": "19ae0bdd",
   "metadata": {},
   "outputs": [
    {
     "data": {
      "text/plain": [
       "Ttest_1sampResult(statistic=0.6243089585093191, pvalue=0.5325672436623027)"
      ]
     },
     "execution_count": 10,
     "metadata": {},
     "output_type": "execute_result"
    }
   ],
   "source": [
    "st.ttest_1samp(x, 10)"
   ]
  },
  {
   "cell_type": "markdown",
   "id": "71948697",
   "metadata": {},
   "source": [
    "Testing the hypothesis: \n",
    "\n",
    "$H_{0}: \\mu = 8$\n",
    "\n",
    "$H_{1}: \\mu \\ne 8$"
   ]
  },
  {
   "cell_type": "code",
   "execution_count": 11,
   "id": "0587665c",
   "metadata": {},
   "outputs": [
    {
     "data": {
      "text/plain": [
       "Ttest_1sampResult(statistic=22.153626697127358, pvalue=8.918191734245118e-89)"
      ]
     },
     "execution_count": 11,
     "metadata": {},
     "output_type": "execute_result"
    }
   ],
   "source": [
    "st.ttest_1samp(x, 8)"
   ]
  },
  {
   "cell_type": "markdown",
   "id": "7a71775f",
   "metadata": {},
   "source": [
    "### Shapiro-Wilk normality test"
   ]
  },
  {
   "cell_type": "code",
   "execution_count": 12,
   "id": "302ef082",
   "metadata": {},
   "outputs": [
    {
     "data": {
      "text/plain": [
       "ShapiroResult(statistic=0.9986087083816528, pvalue=0.626923680305481)"
      ]
     },
     "execution_count": 12,
     "metadata": {},
     "output_type": "execute_result"
    }
   ],
   "source": [
    "st.shapiro(x)"
   ]
  }
 ],
 "metadata": {
  "kernelspec": {
   "display_name": "Python 3 (ipykernel)",
   "language": "python",
   "name": "python3"
  },
  "language_info": {
   "codemirror_mode": {
    "name": "ipython",
    "version": 3
   },
   "file_extension": ".py",
   "mimetype": "text/x-python",
   "name": "python",
   "nbconvert_exporter": "python",
   "pygments_lexer": "ipython3",
   "version": "3.8.0"
  }
 },
 "nbformat": 4,
 "nbformat_minor": 5
}
